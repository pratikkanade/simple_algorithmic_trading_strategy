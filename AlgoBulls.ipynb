{
 "cells": [
  {
   "cell_type": "markdown",
   "id": "50520fd2",
   "metadata": {},
   "source": [
    "# AlgoBulls Assignment"
   ]
  },
  {
   "cell_type": "markdown",
   "id": "2084a3a1",
   "metadata": {},
   "source": [
    "### Import required packages"
   ]
  },
  {
   "cell_type": "code",
   "execution_count": 1,
   "id": "4c0dddaf",
   "metadata": {},
   "outputs": [],
   "source": [
    "import numpy as np\n",
    "import pandas as pd"
   ]
  },
  {
   "cell_type": "code",
   "execution_count": 2,
   "id": "a5c513ef",
   "metadata": {},
   "outputs": [],
   "source": [
    "import requests\n",
    "class ScriptData:\n",
    "    \n",
    "    def __init__(self):\n",
    "        self.info1 = {}\n",
    "        self.data1 = {}\n",
    "        \n",
    "    def __getitem__(self, script):\n",
    "        return self.data1[script]\n",
    "    \n",
    "    def __setitem__(self, script, df):\n",
    "        self.data1[script] = df\n",
    "        \n",
    "    def __contains__(self, script):\n",
    "        return script in self.data1.keys()\n",
    "    \n",
    "    def fetch_intraday_data(self,script):\n",
    "        url = 'https://www.alphavantage.co/query?function=TIME_SERIES_INTRADAY&symbol='+script+'&interval=60min&apikey=1912UMDVJ3T55DBL'\n",
    "        r = requests.get(url)\n",
    "        data = r.json()\n",
    "        self.info1[script] = data['Time Series (60min)']\n",
    "        \n",
    "    def convert_intraday_data(self,script):\n",
    "        df = pd.DataFrame(self.info1[script].values())\n",
    "        df.columns = ['open', 'high', 'low', 'close', 'volume']\n",
    "        df['timestamp'] = self.info1[script].keys()\n",
    "        df = df[['timestamp','open','high','low','close','volume']]\n",
    "        df['timestamp'] = pd.to_datetime(df['timestamp'])\n",
    "        df['open'] = df['open'].astype(float)\n",
    "        df['high'] = df['high'].astype(float)\n",
    "        df['low'] = df['low'].astype(float)\n",
    "        df['close'] = df['close'].astype(float)\n",
    "        df['volume'] = df['volume'].astype(int)\n",
    "        self.__setitem__(script, df)\n"
   ]
  },
  {
   "cell_type": "code",
   "execution_count": 3,
   "id": "cf7c1bac",
   "metadata": {},
   "outputs": [],
   "source": [
    "script_data = ScriptData()"
   ]
  },
  {
   "cell_type": "code",
   "execution_count": 4,
   "id": "a2ff190e",
   "metadata": {},
   "outputs": [],
   "source": [
    "script_data.fetch_intraday_data('AAPL')"
   ]
  },
  {
   "cell_type": "code",
   "execution_count": 5,
   "id": "960a0e4d",
   "metadata": {},
   "outputs": [],
   "source": [
    "script_data.convert_intraday_data('AAPL')"
   ]
  },
  {
   "cell_type": "code",
   "execution_count": 51,
   "id": "eb32210c",
   "metadata": {},
   "outputs": [
    {
     "data": {
      "text/html": [
       "<div>\n",
       "<style scoped>\n",
       "    .dataframe tbody tr th:only-of-type {\n",
       "        vertical-align: middle;\n",
       "    }\n",
       "\n",
       "    .dataframe tbody tr th {\n",
       "        vertical-align: top;\n",
       "    }\n",
       "\n",
       "    .dataframe thead th {\n",
       "        text-align: right;\n",
       "    }\n",
       "</style>\n",
       "<table border=\"1\" class=\"dataframe\">\n",
       "  <thead>\n",
       "    <tr style=\"text-align: right;\">\n",
       "      <th></th>\n",
       "      <th>timestamp</th>\n",
       "      <th>open</th>\n",
       "      <th>high</th>\n",
       "      <th>low</th>\n",
       "      <th>close</th>\n",
       "      <th>volume</th>\n",
       "    </tr>\n",
       "  </thead>\n",
       "  <tbody>\n",
       "    <tr>\n",
       "      <th>0</th>\n",
       "      <td>2023-06-14 19:00:00</td>\n",
       "      <td>184.00</td>\n",
       "      <td>184.0001</td>\n",
       "      <td>183.82</td>\n",
       "      <td>183.88</td>\n",
       "      <td>19704</td>\n",
       "    </tr>\n",
       "    <tr>\n",
       "      <th>1</th>\n",
       "      <td>2023-06-14 18:00:00</td>\n",
       "      <td>184.06</td>\n",
       "      <td>184.1100</td>\n",
       "      <td>184.00</td>\n",
       "      <td>184.03</td>\n",
       "      <td>23246</td>\n",
       "    </tr>\n",
       "    <tr>\n",
       "      <th>2</th>\n",
       "      <td>2023-06-14 17:00:00</td>\n",
       "      <td>184.15</td>\n",
       "      <td>184.1500</td>\n",
       "      <td>183.95</td>\n",
       "      <td>184.05</td>\n",
       "      <td>781306</td>\n",
       "    </tr>\n",
       "    <tr>\n",
       "      <th>3</th>\n",
       "      <td>2023-06-14 16:00:00</td>\n",
       "      <td>183.94</td>\n",
       "      <td>184.2500</td>\n",
       "      <td>183.86</td>\n",
       "      <td>184.08</td>\n",
       "      <td>3327983</td>\n",
       "    </tr>\n",
       "    <tr>\n",
       "      <th>4</th>\n",
       "      <td>2023-06-14 15:00:00</td>\n",
       "      <td>183.59</td>\n",
       "      <td>184.2050</td>\n",
       "      <td>182.95</td>\n",
       "      <td>183.96</td>\n",
       "      <td>10054258</td>\n",
       "    </tr>\n",
       "    <tr>\n",
       "      <th>...</th>\n",
       "      <td>...</td>\n",
       "      <td>...</td>\n",
       "      <td>...</td>\n",
       "      <td>...</td>\n",
       "      <td>...</td>\n",
       "      <td>...</td>\n",
       "    </tr>\n",
       "    <tr>\n",
       "      <th>95</th>\n",
       "      <td>2023-06-07 04:00:00</td>\n",
       "      <td>179.07</td>\n",
       "      <td>179.0700</td>\n",
       "      <td>178.69</td>\n",
       "      <td>178.75</td>\n",
       "      <td>14389</td>\n",
       "    </tr>\n",
       "    <tr>\n",
       "      <th>96</th>\n",
       "      <td>2023-06-06 19:00:00</td>\n",
       "      <td>178.92</td>\n",
       "      <td>179.0500</td>\n",
       "      <td>178.90</td>\n",
       "      <td>179.00</td>\n",
       "      <td>30843</td>\n",
       "    </tr>\n",
       "    <tr>\n",
       "      <th>97</th>\n",
       "      <td>2023-06-06 18:00:00</td>\n",
       "      <td>179.10</td>\n",
       "      <td>179.1000</td>\n",
       "      <td>178.89</td>\n",
       "      <td>178.90</td>\n",
       "      <td>37185</td>\n",
       "    </tr>\n",
       "    <tr>\n",
       "      <th>98</th>\n",
       "      <td>2023-06-06 17:00:00</td>\n",
       "      <td>179.04</td>\n",
       "      <td>179.2100</td>\n",
       "      <td>179.00</td>\n",
       "      <td>179.10</td>\n",
       "      <td>40897</td>\n",
       "    </tr>\n",
       "    <tr>\n",
       "      <th>99</th>\n",
       "      <td>2023-06-06 16:00:00</td>\n",
       "      <td>179.16</td>\n",
       "      <td>179.3000</td>\n",
       "      <td>178.93</td>\n",
       "      <td>179.04</td>\n",
       "      <td>1921239</td>\n",
       "    </tr>\n",
       "  </tbody>\n",
       "</table>\n",
       "<p>100 rows × 6 columns</p>\n",
       "</div>"
      ],
      "text/plain": [
       "             timestamp    open      high     low   close    volume\n",
       "0  2023-06-14 19:00:00  184.00  184.0001  183.82  183.88     19704\n",
       "1  2023-06-14 18:00:00  184.06  184.1100  184.00  184.03     23246\n",
       "2  2023-06-14 17:00:00  184.15  184.1500  183.95  184.05    781306\n",
       "3  2023-06-14 16:00:00  183.94  184.2500  183.86  184.08   3327983\n",
       "4  2023-06-14 15:00:00  183.59  184.2050  182.95  183.96  10054258\n",
       "..                 ...     ...       ...     ...     ...       ...\n",
       "95 2023-06-07 04:00:00  179.07  179.0700  178.69  178.75     14389\n",
       "96 2023-06-06 19:00:00  178.92  179.0500  178.90  179.00     30843\n",
       "97 2023-06-06 18:00:00  179.10  179.1000  178.89  178.90     37185\n",
       "98 2023-06-06 17:00:00  179.04  179.2100  179.00  179.10     40897\n",
       "99 2023-06-06 16:00:00  179.16  179.3000  178.93  179.04   1921239\n",
       "\n",
       "[100 rows x 6 columns]"
      ]
     },
     "execution_count": 51,
     "metadata": {},
     "output_type": "execute_result"
    }
   ],
   "source": [
    "script_data['AAPL']"
   ]
  },
  {
   "cell_type": "code",
   "execution_count": 7,
   "id": "5e4b5876",
   "metadata": {},
   "outputs": [
    {
     "data": {
      "text/plain": [
       "True"
      ]
     },
     "execution_count": 7,
     "metadata": {},
     "output_type": "execute_result"
    }
   ],
   "source": [
    "'AAPL' in script_data"
   ]
  },
  {
   "cell_type": "code",
   "execution_count": 442,
   "id": "d2170a2b",
   "metadata": {},
   "outputs": [],
   "source": [
    "script_data.fetch_intraday_data('GOOGL')"
   ]
  },
  {
   "cell_type": "code",
   "execution_count": 443,
   "id": "992df548",
   "metadata": {},
   "outputs": [],
   "source": [
    "script_data.convert_intraday_data('GOOGL')"
   ]
  },
  {
   "cell_type": "code",
   "execution_count": 44,
   "id": "385086db",
   "metadata": {},
   "outputs": [
    {
     "ename": "KeyError",
     "evalue": "'GOOGL'",
     "output_type": "error",
     "traceback": [
      "\u001b[1;31m---------------------------------------------------------------------------\u001b[0m",
      "\u001b[1;31mKeyError\u001b[0m                                  Traceback (most recent call last)",
      "Cell \u001b[1;32mIn[44], line 1\u001b[0m\n\u001b[1;32m----> 1\u001b[0m df3 \u001b[38;5;241m=\u001b[39m \u001b[43mscript_data\u001b[49m\u001b[43m[\u001b[49m\u001b[38;5;124;43m'\u001b[39;49m\u001b[38;5;124;43mGOOGL\u001b[39;49m\u001b[38;5;124;43m'\u001b[39;49m\u001b[43m]\u001b[49m\n",
      "Cell \u001b[1;32mIn[2], line 9\u001b[0m, in \u001b[0;36mScriptData.__getitem__\u001b[1;34m(self, script)\u001b[0m\n\u001b[0;32m      8\u001b[0m \u001b[38;5;28;01mdef\u001b[39;00m \u001b[38;5;21m__getitem__\u001b[39m(\u001b[38;5;28mself\u001b[39m, script):\n\u001b[1;32m----> 9\u001b[0m     \u001b[38;5;28;01mreturn\u001b[39;00m \u001b[38;5;28;43mself\u001b[39;49m\u001b[38;5;241;43m.\u001b[39;49m\u001b[43mdata1\u001b[49m\u001b[43m[\u001b[49m\u001b[43mscript\u001b[49m\u001b[43m]\u001b[49m\n",
      "\u001b[1;31mKeyError\u001b[0m: 'GOOGL'"
     ]
    }
   ],
   "source": [
    "script_data['GOOGL']"
   ]
  },
  {
   "cell_type": "code",
   "execution_count": 8,
   "id": "20a94e80",
   "metadata": {},
   "outputs": [
    {
     "data": {
      "text/plain": [
       "False"
      ]
     },
     "execution_count": 8,
     "metadata": {},
     "output_type": "execute_result"
    }
   ],
   "source": [
    "'GOOGL' in script_data"
   ]
  },
  {
   "cell_type": "code",
   "execution_count": 9,
   "id": "490f5739",
   "metadata": {},
   "outputs": [
    {
     "data": {
      "text/plain": [
       "False"
      ]
     },
     "execution_count": 9,
     "metadata": {},
     "output_type": "execute_result"
    }
   ],
   "source": [
    "'NVDA' in script_data"
   ]
  },
  {
   "cell_type": "code",
   "execution_count": 49,
   "id": "3cfb86d4",
   "metadata": {},
   "outputs": [],
   "source": [
    "def indicator1(df, timeperiod):\n",
    "    list1 = []\n",
    "    for i in range(len(df)):\n",
    "        if i < timeperiod - 1:\n",
    "            list1.append(None)\n",
    "        elif i >= timeperiod:\n",
    "            sum = 0\n",
    "            for j in range(i-timeperiod, i):\n",
    "                sum += df['close'][j]\n",
    "            mean = sum/timeperiod\n",
    "            list1.append(mean)\n",
    "    df2 = pd.DataFrame()\n",
    "    df2['indicator'] = list1\n",
    "    df2['timestamp'] = df['timestamp']\n",
    "    df2 = df2[['timestamp','indicator']]\n",
    "    return df2"
   ]
  },
  {
   "cell_type": "code",
   "execution_count": 50,
   "id": "8a8cfbfe",
   "metadata": {},
   "outputs": [
    {
     "data": {
      "text/html": [
       "<div>\n",
       "<style scoped>\n",
       "    .dataframe tbody tr th:only-of-type {\n",
       "        vertical-align: middle;\n",
       "    }\n",
       "\n",
       "    .dataframe tbody tr th {\n",
       "        vertical-align: top;\n",
       "    }\n",
       "\n",
       "    .dataframe thead th {\n",
       "        text-align: right;\n",
       "    }\n",
       "</style>\n",
       "<table border=\"1\" class=\"dataframe\">\n",
       "  <thead>\n",
       "    <tr style=\"text-align: right;\">\n",
       "      <th></th>\n",
       "      <th>timestamp</th>\n",
       "      <th>indicator</th>\n",
       "    </tr>\n",
       "  </thead>\n",
       "  <tbody>\n",
       "    <tr>\n",
       "      <th>0</th>\n",
       "      <td>2023-06-14 19:00:00</td>\n",
       "      <td>NaN</td>\n",
       "    </tr>\n",
       "    <tr>\n",
       "      <th>1</th>\n",
       "      <td>2023-06-14 18:00:00</td>\n",
       "      <td>NaN</td>\n",
       "    </tr>\n",
       "    <tr>\n",
       "      <th>2</th>\n",
       "      <td>2023-06-14 17:00:00</td>\n",
       "      <td>NaN</td>\n",
       "    </tr>\n",
       "    <tr>\n",
       "      <th>3</th>\n",
       "      <td>2023-06-14 16:00:00</td>\n",
       "      <td>NaN</td>\n",
       "    </tr>\n",
       "    <tr>\n",
       "      <th>4</th>\n",
       "      <td>2023-06-14 15:00:00</td>\n",
       "      <td>184.000</td>\n",
       "    </tr>\n",
       "    <tr>\n",
       "      <th>...</th>\n",
       "      <td>...</td>\n",
       "      <td>...</td>\n",
       "    </tr>\n",
       "    <tr>\n",
       "      <th>94</th>\n",
       "      <td>2023-06-07 05:00:00</td>\n",
       "      <td>179.225</td>\n",
       "    </tr>\n",
       "    <tr>\n",
       "      <th>95</th>\n",
       "      <td>2023-06-07 04:00:00</td>\n",
       "      <td>178.890</td>\n",
       "    </tr>\n",
       "    <tr>\n",
       "      <th>96</th>\n",
       "      <td>2023-06-06 19:00:00</td>\n",
       "      <td>178.920</td>\n",
       "    </tr>\n",
       "    <tr>\n",
       "      <th>97</th>\n",
       "      <td>2023-06-06 18:00:00</td>\n",
       "      <td>178.888</td>\n",
       "    </tr>\n",
       "    <tr>\n",
       "      <th>98</th>\n",
       "      <td>2023-06-06 17:00:00</td>\n",
       "      <td>178.946</td>\n",
       "    </tr>\n",
       "  </tbody>\n",
       "</table>\n",
       "<p>99 rows × 2 columns</p>\n",
       "</div>"
      ],
      "text/plain": [
       "             timestamp  indicator\n",
       "0  2023-06-14 19:00:00        NaN\n",
       "1  2023-06-14 18:00:00        NaN\n",
       "2  2023-06-14 17:00:00        NaN\n",
       "3  2023-06-14 16:00:00        NaN\n",
       "4  2023-06-14 15:00:00    184.000\n",
       "..                 ...        ...\n",
       "94 2023-06-07 05:00:00    179.225\n",
       "95 2023-06-07 04:00:00    178.890\n",
       "96 2023-06-06 19:00:00    178.920\n",
       "97 2023-06-06 18:00:00    178.888\n",
       "98 2023-06-06 17:00:00    178.946\n",
       "\n",
       "[99 rows x 2 columns]"
      ]
     },
     "execution_count": 50,
     "metadata": {},
     "output_type": "execute_result"
    }
   ],
   "source": [
    "indicator1(script_data['AAPL'], 5)"
   ]
  },
  {
   "cell_type": "code",
   "execution_count": null,
   "id": "2bfa007f",
   "metadata": {},
   "outputs": [],
   "source": []
  },
  {
   "cell_type": "code",
   "execution_count": null,
   "id": "80fd7587",
   "metadata": {},
   "outputs": [],
   "source": []
  },
  {
   "cell_type": "code",
   "execution_count": null,
   "id": "c2422f98",
   "metadata": {},
   "outputs": [],
   "source": []
  },
  {
   "cell_type": "code",
   "execution_count": null,
   "id": "9a999ffb",
   "metadata": {},
   "outputs": [],
   "source": []
  },
  {
   "cell_type": "code",
   "execution_count": 237,
   "id": "e65890b1",
   "metadata": {},
   "outputs": [],
   "source": [
    "url = 'https://www.alphavantage.co/query?function=TIME_SERIES_INTRADAY&symbol=GOOGL&interval=60min&apikey=1912UMDVJ3T55DBL'\n",
    "r = requests.get(url)\n",
    "data = r.json()\n",
    "info['GOOGL'] = data['Time Series (60min)']"
   ]
  },
  {
   "cell_type": "code",
   "execution_count": 238,
   "id": "d93d50f5",
   "metadata": {},
   "outputs": [
    {
     "data": {
      "text/plain": [
       "1"
      ]
     },
     "execution_count": 238,
     "metadata": {},
     "output_type": "execute_result"
    }
   ],
   "source": [
    "len(info)"
   ]
  },
  {
   "cell_type": "code",
   "execution_count": 420,
   "id": "731e2426",
   "metadata": {},
   "outputs": [],
   "source": [
    "#info['GOOGL'].keys()"
   ]
  },
  {
   "cell_type": "code",
   "execution_count": 222,
   "id": "a38dd19a",
   "metadata": {},
   "outputs": [],
   "source": [
    "#info = data['Time Series (60min)']\n",
    "df = pd.DataFrame(info['GOOGL'].values())\n",
    "df.columns = ['open', 'high', 'low', 'close', 'volume']"
   ]
  },
  {
   "cell_type": "code",
   "execution_count": 223,
   "id": "391dc562",
   "metadata": {},
   "outputs": [],
   "source": [
    "df['timestamp'] = info['GOOGL'].keys()"
   ]
  },
  {
   "cell_type": "code",
   "execution_count": 224,
   "id": "8ca688b8",
   "metadata": {},
   "outputs": [],
   "source": [
    "df = df[['timestamp','open','high','low','close','volume']]"
   ]
  },
  {
   "cell_type": "code",
   "execution_count": 225,
   "id": "ce5f45b9",
   "metadata": {},
   "outputs": [
    {
     "data": {
      "text/html": [
       "<div>\n",
       "<style scoped>\n",
       "    .dataframe tbody tr th:only-of-type {\n",
       "        vertical-align: middle;\n",
       "    }\n",
       "\n",
       "    .dataframe tbody tr th {\n",
       "        vertical-align: top;\n",
       "    }\n",
       "\n",
       "    .dataframe thead th {\n",
       "        text-align: right;\n",
       "    }\n",
       "</style>\n",
       "<table border=\"1\" class=\"dataframe\">\n",
       "  <thead>\n",
       "    <tr style=\"text-align: right;\">\n",
       "      <th></th>\n",
       "      <th>timestamp</th>\n",
       "      <th>open</th>\n",
       "      <th>high</th>\n",
       "      <th>low</th>\n",
       "      <th>close</th>\n",
       "      <th>volume</th>\n",
       "    </tr>\n",
       "  </thead>\n",
       "  <tbody>\n",
       "    <tr>\n",
       "      <th>0</th>\n",
       "      <td>2023-06-13 19:00:00</td>\n",
       "      <td>123.9100</td>\n",
       "      <td>123.9700</td>\n",
       "      <td>123.7900</td>\n",
       "      <td>123.8100</td>\n",
       "      <td>20048</td>\n",
       "    </tr>\n",
       "    <tr>\n",
       "      <th>1</th>\n",
       "      <td>2023-06-13 18:00:00</td>\n",
       "      <td>123.9600</td>\n",
       "      <td>124.0000</td>\n",
       "      <td>123.7600</td>\n",
       "      <td>123.9932</td>\n",
       "      <td>14863</td>\n",
       "    </tr>\n",
       "    <tr>\n",
       "      <th>2</th>\n",
       "      <td>2023-06-13 17:00:00</td>\n",
       "      <td>123.6700</td>\n",
       "      <td>124.0000</td>\n",
       "      <td>123.6500</td>\n",
       "      <td>123.9500</td>\n",
       "      <td>302709</td>\n",
       "    </tr>\n",
       "    <tr>\n",
       "      <th>3</th>\n",
       "      <td>2023-06-13 16:00:00</td>\n",
       "      <td>123.8300</td>\n",
       "      <td>123.8600</td>\n",
       "      <td>122.7000</td>\n",
       "      <td>123.6700</td>\n",
       "      <td>997260</td>\n",
       "    </tr>\n",
       "    <tr>\n",
       "      <th>4</th>\n",
       "      <td>2023-06-13 15:00:00</td>\n",
       "      <td>123.4400</td>\n",
       "      <td>123.9200</td>\n",
       "      <td>123.3800</td>\n",
       "      <td>123.8300</td>\n",
       "      <td>3145616</td>\n",
       "    </tr>\n",
       "    <tr>\n",
       "      <th>...</th>\n",
       "      <td>...</td>\n",
       "      <td>...</td>\n",
       "      <td>...</td>\n",
       "      <td>...</td>\n",
       "      <td>...</td>\n",
       "      <td>...</td>\n",
       "    </tr>\n",
       "    <tr>\n",
       "      <th>95</th>\n",
       "      <td>2023-06-06 04:00:00</td>\n",
       "      <td>125.9700</td>\n",
       "      <td>126.2200</td>\n",
       "      <td>125.7600</td>\n",
       "      <td>125.8700</td>\n",
       "      <td>6702</td>\n",
       "    </tr>\n",
       "    <tr>\n",
       "      <th>96</th>\n",
       "      <td>2023-06-05 19:00:00</td>\n",
       "      <td>126.0500</td>\n",
       "      <td>126.1400</td>\n",
       "      <td>125.8200</td>\n",
       "      <td>126.0000</td>\n",
       "      <td>17678</td>\n",
       "    </tr>\n",
       "    <tr>\n",
       "      <th>97</th>\n",
       "      <td>2023-06-05 18:00:00</td>\n",
       "      <td>126.2000</td>\n",
       "      <td>126.2000</td>\n",
       "      <td>126.0100</td>\n",
       "      <td>126.0100</td>\n",
       "      <td>20288</td>\n",
       "    </tr>\n",
       "    <tr>\n",
       "      <th>98</th>\n",
       "      <td>2023-06-05 17:00:00</td>\n",
       "      <td>126.1100</td>\n",
       "      <td>126.2000</td>\n",
       "      <td>126.0100</td>\n",
       "      <td>126.1900</td>\n",
       "      <td>1536775</td>\n",
       "    </tr>\n",
       "    <tr>\n",
       "      <th>99</th>\n",
       "      <td>2023-06-05 16:00:00</td>\n",
       "      <td>126.0100</td>\n",
       "      <td>126.2200</td>\n",
       "      <td>125.8900</td>\n",
       "      <td>126.0900</td>\n",
       "      <td>1964935</td>\n",
       "    </tr>\n",
       "  </tbody>\n",
       "</table>\n",
       "<p>100 rows × 6 columns</p>\n",
       "</div>"
      ],
      "text/plain": [
       "              timestamp      open      high       low     close   volume\n",
       "0   2023-06-13 19:00:00  123.9100  123.9700  123.7900  123.8100    20048\n",
       "1   2023-06-13 18:00:00  123.9600  124.0000  123.7600  123.9932    14863\n",
       "2   2023-06-13 17:00:00  123.6700  124.0000  123.6500  123.9500   302709\n",
       "3   2023-06-13 16:00:00  123.8300  123.8600  122.7000  123.6700   997260\n",
       "4   2023-06-13 15:00:00  123.4400  123.9200  123.3800  123.8300  3145616\n",
       "..                  ...       ...       ...       ...       ...      ...\n",
       "95  2023-06-06 04:00:00  125.9700  126.2200  125.7600  125.8700     6702\n",
       "96  2023-06-05 19:00:00  126.0500  126.1400  125.8200  126.0000    17678\n",
       "97  2023-06-05 18:00:00  126.2000  126.2000  126.0100  126.0100    20288\n",
       "98  2023-06-05 17:00:00  126.1100  126.2000  126.0100  126.1900  1536775\n",
       "99  2023-06-05 16:00:00  126.0100  126.2200  125.8900  126.0900  1964935\n",
       "\n",
       "[100 rows x 6 columns]"
      ]
     },
     "execution_count": 225,
     "metadata": {},
     "output_type": "execute_result"
    }
   ],
   "source": [
    "df"
   ]
  },
  {
   "cell_type": "code",
   "execution_count": 184,
   "id": "32dc4e67",
   "metadata": {},
   "outputs": [],
   "source": [
    "df['open'] = df['open'].astype(float)\n",
    "df['high'] = df['high'].astype(float)\n",
    "df['low'] = df['low'].astype(float)\n",
    "df['close'] = df['close'].astype(float)\n",
    "df['volume'] = df['volume'].astype(int)"
   ]
  },
  {
   "cell_type": "code",
   "execution_count": 188,
   "id": "f56681d0",
   "metadata": {},
   "outputs": [],
   "source": [
    "df['timestamp'] = pd.to_datetime(df['timestamp'])"
   ]
  },
  {
   "cell_type": "code",
   "execution_count": 189,
   "id": "abb5d2d3",
   "metadata": {},
   "outputs": [
    {
     "name": "stdout",
     "output_type": "stream",
     "text": [
      "<class 'pandas.core.frame.DataFrame'>\n",
      "RangeIndex: 100 entries, 0 to 99\n",
      "Data columns (total 6 columns):\n",
      " #   Column     Non-Null Count  Dtype         \n",
      "---  ------     --------------  -----         \n",
      " 0   timestamp  100 non-null    datetime64[ns]\n",
      " 1   open       100 non-null    float64       \n",
      " 2   high       100 non-null    float64       \n",
      " 3   low        100 non-null    float64       \n",
      " 4   close      100 non-null    float64       \n",
      " 5   volume     100 non-null    int32         \n",
      "dtypes: datetime64[ns](1), float64(4), int32(1)\n",
      "memory usage: 4.4 KB\n"
     ]
    }
   ],
   "source": [
    "df.info()"
   ]
  }
 ],
 "metadata": {
  "kernelspec": {
   "display_name": "Python 3 (ipykernel)",
   "language": "python",
   "name": "python3"
  },
  "language_info": {
   "codemirror_mode": {
    "name": "ipython",
    "version": 3
   },
   "file_extension": ".py",
   "mimetype": "text/x-python",
   "name": "python",
   "nbconvert_exporter": "python",
   "pygments_lexer": "ipython3",
   "version": "3.10.11"
  }
 },
 "nbformat": 4,
 "nbformat_minor": 5
}
