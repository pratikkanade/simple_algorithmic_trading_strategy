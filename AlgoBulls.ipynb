{
 "cells": [
  {
   "cell_type": "markdown",
   "id": "50520fd2",
   "metadata": {},
   "source": [
    "# AlgoBulls Assignment"
   ]
  },
  {
   "cell_type": "markdown",
   "id": "2084a3a1",
   "metadata": {},
   "source": [
    "### Import required packages"
   ]
  },
  {
   "cell_type": "code",
   "execution_count": 1,
   "id": "4c0dddaf",
   "metadata": {},
   "outputs": [],
   "source": [
    "import numpy as np\n",
    "import pandas as pd"
   ]
  },
  {
   "cell_type": "code",
   "execution_count": 2,
   "id": "a5c513ef",
   "metadata": {},
   "outputs": [],
   "source": [
    "import requests\n",
    "class ScriptData:\n",
    "    \n",
    "    def __init__(self):\n",
    "        self.info1 = {}\n",
    "        self.data1 = {}\n",
    "        \n",
    "    def __getitem__(self, script):\n",
    "        return self.data1[script]\n",
    "    \n",
    "    def __setitem__(self, script, df):\n",
    "        self.data1[script] = df\n",
    "        \n",
    "    def __contains__(self, script):\n",
    "        return script in self.data1.keys()\n",
    "    \n",
    "    def fetch_intraday_data(self,script):\n",
    "        url = 'https://www.alphavantage.co/query?function=TIME_SERIES_INTRADAY&symbol='+script+'&interval=60min&apikey=1912UMDVJ3T55DBL'\n",
    "        r = requests.get(url)\n",
    "        data = r.json()\n",
    "        self.info1[script] = data['Time Series (60min)']\n",
    "        \n",
    "    def convert_intraday_data(self,script):\n",
    "        df = pd.DataFrame(self.info1[script].values())\n",
    "        df.columns = ['open', 'high', 'low', 'close', 'volume']\n",
    "        df['timestamp'] = self.info1[script].keys()\n",
    "        df = df[['timestamp','open','high','low','close','volume']]\n",
    "        df['timestamp'] = pd.to_datetime(df['timestamp'])\n",
    "        df['open'] = df['open'].astype(float)\n",
    "        df['high'] = df['high'].astype(float)\n",
    "        df['low'] = df['low'].astype(float)\n",
    "        df['close'] = df['close'].astype(float)\n",
    "        df['volume'] = df['volume'].astype(int)\n",
    "        self.__setitem__(script, df)\n"
   ]
  },
  {
   "cell_type": "code",
   "execution_count": 3,
   "id": "cf7c1bac",
   "metadata": {},
   "outputs": [],
   "source": [
    "script_data = ScriptData()"
   ]
  },
  {
   "cell_type": "code",
   "execution_count": 4,
   "id": "a2ff190e",
   "metadata": {},
   "outputs": [],
   "source": [
    "script_data.fetch_intraday_data('AAPL')"
   ]
  },
  {
   "cell_type": "code",
   "execution_count": 5,
   "id": "960a0e4d",
   "metadata": {},
   "outputs": [],
   "source": [
    "script_data.convert_intraday_data('AAPL')"
   ]
  },
  {
   "cell_type": "code",
   "execution_count": 6,
   "id": "eb32210c",
   "metadata": {},
   "outputs": [
    {
     "data": {
      "text/html": [
       "<div>\n",
       "<style scoped>\n",
       "    .dataframe tbody tr th:only-of-type {\n",
       "        vertical-align: middle;\n",
       "    }\n",
       "\n",
       "    .dataframe tbody tr th {\n",
       "        vertical-align: top;\n",
       "    }\n",
       "\n",
       "    .dataframe thead th {\n",
       "        text-align: right;\n",
       "    }\n",
       "</style>\n",
       "<table border=\"1\" class=\"dataframe\">\n",
       "  <thead>\n",
       "    <tr style=\"text-align: right;\">\n",
       "      <th></th>\n",
       "      <th>timestamp</th>\n",
       "      <th>open</th>\n",
       "      <th>high</th>\n",
       "      <th>low</th>\n",
       "      <th>close</th>\n",
       "      <th>volume</th>\n",
       "    </tr>\n",
       "  </thead>\n",
       "  <tbody>\n",
       "    <tr>\n",
       "      <th>0</th>\n",
       "      <td>2023-06-13 19:00:00</td>\n",
       "      <td>183.2600</td>\n",
       "      <td>183.26</td>\n",
       "      <td>183.05</td>\n",
       "      <td>183.0799</td>\n",
       "      <td>41720</td>\n",
       "    </tr>\n",
       "    <tr>\n",
       "      <th>1</th>\n",
       "      <td>2023-06-13 18:00:00</td>\n",
       "      <td>183.2200</td>\n",
       "      <td>183.28</td>\n",
       "      <td>183.20</td>\n",
       "      <td>183.2600</td>\n",
       "      <td>22639</td>\n",
       "    </tr>\n",
       "    <tr>\n",
       "      <th>2</th>\n",
       "      <td>2023-06-13 17:00:00</td>\n",
       "      <td>183.2200</td>\n",
       "      <td>183.31</td>\n",
       "      <td>183.20</td>\n",
       "      <td>183.2300</td>\n",
       "      <td>42935</td>\n",
       "    </tr>\n",
       "    <tr>\n",
       "      <th>3</th>\n",
       "      <td>2023-06-13 16:00:00</td>\n",
       "      <td>183.3000</td>\n",
       "      <td>183.34</td>\n",
       "      <td>183.17</td>\n",
       "      <td>183.2100</td>\n",
       "      <td>3174829</td>\n",
       "    </tr>\n",
       "    <tr>\n",
       "      <th>4</th>\n",
       "      <td>2023-06-13 15:00:00</td>\n",
       "      <td>182.9197</td>\n",
       "      <td>183.38</td>\n",
       "      <td>182.68</td>\n",
       "      <td>183.3200</td>\n",
       "      <td>6555794</td>\n",
       "    </tr>\n",
       "    <tr>\n",
       "      <th>...</th>\n",
       "      <td>...</td>\n",
       "      <td>...</td>\n",
       "      <td>...</td>\n",
       "      <td>...</td>\n",
       "      <td>...</td>\n",
       "      <td>...</td>\n",
       "    </tr>\n",
       "    <tr>\n",
       "      <th>95</th>\n",
       "      <td>2023-06-06 04:00:00</td>\n",
       "      <td>179.0500</td>\n",
       "      <td>179.51</td>\n",
       "      <td>178.49</td>\n",
       "      <td>178.8700</td>\n",
       "      <td>112475</td>\n",
       "    </tr>\n",
       "    <tr>\n",
       "      <th>96</th>\n",
       "      <td>2023-06-05 19:00:00</td>\n",
       "      <td>179.0700</td>\n",
       "      <td>179.24</td>\n",
       "      <td>179.00</td>\n",
       "      <td>179.1200</td>\n",
       "      <td>155583</td>\n",
       "    </tr>\n",
       "    <tr>\n",
       "      <th>97</th>\n",
       "      <td>2023-06-05 18:00:00</td>\n",
       "      <td>180.0000</td>\n",
       "      <td>180.00</td>\n",
       "      <td>179.00</td>\n",
       "      <td>179.1300</td>\n",
       "      <td>171805</td>\n",
       "    </tr>\n",
       "    <tr>\n",
       "      <th>98</th>\n",
       "      <td>2023-06-05 17:00:00</td>\n",
       "      <td>179.5200</td>\n",
       "      <td>180.10</td>\n",
       "      <td>179.43</td>\n",
       "      <td>180.0100</td>\n",
       "      <td>190477</td>\n",
       "    </tr>\n",
       "    <tr>\n",
       "      <th>99</th>\n",
       "      <td>2023-06-05 16:00:00</td>\n",
       "      <td>179.5800</td>\n",
       "      <td>183.82</td>\n",
       "      <td>179.35</td>\n",
       "      <td>179.5300</td>\n",
       "      <td>2802967</td>\n",
       "    </tr>\n",
       "  </tbody>\n",
       "</table>\n",
       "<p>100 rows × 6 columns</p>\n",
       "</div>"
      ],
      "text/plain": [
       "             timestamp      open    high     low     close   volume\n",
       "0  2023-06-13 19:00:00  183.2600  183.26  183.05  183.0799    41720\n",
       "1  2023-06-13 18:00:00  183.2200  183.28  183.20  183.2600    22639\n",
       "2  2023-06-13 17:00:00  183.2200  183.31  183.20  183.2300    42935\n",
       "3  2023-06-13 16:00:00  183.3000  183.34  183.17  183.2100  3174829\n",
       "4  2023-06-13 15:00:00  182.9197  183.38  182.68  183.3200  6555794\n",
       "..                 ...       ...     ...     ...       ...      ...\n",
       "95 2023-06-06 04:00:00  179.0500  179.51  178.49  178.8700   112475\n",
       "96 2023-06-05 19:00:00  179.0700  179.24  179.00  179.1200   155583\n",
       "97 2023-06-05 18:00:00  180.0000  180.00  179.00  179.1300   171805\n",
       "98 2023-06-05 17:00:00  179.5200  180.10  179.43  180.0100   190477\n",
       "99 2023-06-05 16:00:00  179.5800  183.82  179.35  179.5300  2802967\n",
       "\n",
       "[100 rows x 6 columns]"
      ]
     },
     "execution_count": 6,
     "metadata": {},
     "output_type": "execute_result"
    }
   ],
   "source": [
    "script_data['AAPL']"
   ]
  },
  {
   "cell_type": "code",
   "execution_count": 7,
   "id": "5e4b5876",
   "metadata": {},
   "outputs": [
    {
     "data": {
      "text/plain": [
       "True"
      ]
     },
     "execution_count": 7,
     "metadata": {},
     "output_type": "execute_result"
    }
   ],
   "source": [
    "'AAPL' in script_data"
   ]
  },
  {
   "cell_type": "code",
   "execution_count": 442,
   "id": "d2170a2b",
   "metadata": {},
   "outputs": [],
   "source": [
    "script_data.fetch_intraday_data('GOOGL')"
   ]
  },
  {
   "cell_type": "code",
   "execution_count": 443,
   "id": "992df548",
   "metadata": {},
   "outputs": [],
   "source": [
    "script_data.convert_intraday_data('GOOGL')"
   ]
  },
  {
   "cell_type": "code",
   "execution_count": 444,
   "id": "385086db",
   "metadata": {},
   "outputs": [
    {
     "data": {
      "text/html": [
       "<div>\n",
       "<style scoped>\n",
       "    .dataframe tbody tr th:only-of-type {\n",
       "        vertical-align: middle;\n",
       "    }\n",
       "\n",
       "    .dataframe tbody tr th {\n",
       "        vertical-align: top;\n",
       "    }\n",
       "\n",
       "    .dataframe thead th {\n",
       "        text-align: right;\n",
       "    }\n",
       "</style>\n",
       "<table border=\"1\" class=\"dataframe\">\n",
       "  <thead>\n",
       "    <tr style=\"text-align: right;\">\n",
       "      <th></th>\n",
       "      <th>timestamp</th>\n",
       "      <th>open</th>\n",
       "      <th>high</th>\n",
       "      <th>low</th>\n",
       "      <th>close</th>\n",
       "      <th>volume</th>\n",
       "    </tr>\n",
       "  </thead>\n",
       "  <tbody>\n",
       "    <tr>\n",
       "      <th>0</th>\n",
       "      <td>2023-06-13 19:00:00</td>\n",
       "      <td>123.91</td>\n",
       "      <td>123.97</td>\n",
       "      <td>123.79</td>\n",
       "      <td>123.8100</td>\n",
       "      <td>20048</td>\n",
       "    </tr>\n",
       "    <tr>\n",
       "      <th>1</th>\n",
       "      <td>2023-06-13 18:00:00</td>\n",
       "      <td>123.96</td>\n",
       "      <td>124.00</td>\n",
       "      <td>123.76</td>\n",
       "      <td>123.9932</td>\n",
       "      <td>14863</td>\n",
       "    </tr>\n",
       "    <tr>\n",
       "      <th>2</th>\n",
       "      <td>2023-06-13 17:00:00</td>\n",
       "      <td>123.67</td>\n",
       "      <td>124.00</td>\n",
       "      <td>123.65</td>\n",
       "      <td>123.9500</td>\n",
       "      <td>302709</td>\n",
       "    </tr>\n",
       "    <tr>\n",
       "      <th>3</th>\n",
       "      <td>2023-06-13 16:00:00</td>\n",
       "      <td>123.83</td>\n",
       "      <td>123.86</td>\n",
       "      <td>122.70</td>\n",
       "      <td>123.6700</td>\n",
       "      <td>997260</td>\n",
       "    </tr>\n",
       "    <tr>\n",
       "      <th>4</th>\n",
       "      <td>2023-06-13 15:00:00</td>\n",
       "      <td>123.44</td>\n",
       "      <td>123.92</td>\n",
       "      <td>123.38</td>\n",
       "      <td>123.8300</td>\n",
       "      <td>3145616</td>\n",
       "    </tr>\n",
       "    <tr>\n",
       "      <th>...</th>\n",
       "      <td>...</td>\n",
       "      <td>...</td>\n",
       "      <td>...</td>\n",
       "      <td>...</td>\n",
       "      <td>...</td>\n",
       "      <td>...</td>\n",
       "    </tr>\n",
       "    <tr>\n",
       "      <th>95</th>\n",
       "      <td>2023-06-06 04:00:00</td>\n",
       "      <td>125.97</td>\n",
       "      <td>126.22</td>\n",
       "      <td>125.76</td>\n",
       "      <td>125.8700</td>\n",
       "      <td>6702</td>\n",
       "    </tr>\n",
       "    <tr>\n",
       "      <th>96</th>\n",
       "      <td>2023-06-05 19:00:00</td>\n",
       "      <td>126.05</td>\n",
       "      <td>126.14</td>\n",
       "      <td>125.82</td>\n",
       "      <td>126.0000</td>\n",
       "      <td>17678</td>\n",
       "    </tr>\n",
       "    <tr>\n",
       "      <th>97</th>\n",
       "      <td>2023-06-05 18:00:00</td>\n",
       "      <td>126.20</td>\n",
       "      <td>126.20</td>\n",
       "      <td>126.01</td>\n",
       "      <td>126.0100</td>\n",
       "      <td>20288</td>\n",
       "    </tr>\n",
       "    <tr>\n",
       "      <th>98</th>\n",
       "      <td>2023-06-05 17:00:00</td>\n",
       "      <td>126.11</td>\n",
       "      <td>126.20</td>\n",
       "      <td>126.01</td>\n",
       "      <td>126.1900</td>\n",
       "      <td>1536775</td>\n",
       "    </tr>\n",
       "    <tr>\n",
       "      <th>99</th>\n",
       "      <td>2023-06-05 16:00:00</td>\n",
       "      <td>126.01</td>\n",
       "      <td>126.22</td>\n",
       "      <td>125.89</td>\n",
       "      <td>126.0900</td>\n",
       "      <td>1964935</td>\n",
       "    </tr>\n",
       "  </tbody>\n",
       "</table>\n",
       "<p>100 rows × 6 columns</p>\n",
       "</div>"
      ],
      "text/plain": [
       "             timestamp    open    high     low     close   volume\n",
       "0  2023-06-13 19:00:00  123.91  123.97  123.79  123.8100    20048\n",
       "1  2023-06-13 18:00:00  123.96  124.00  123.76  123.9932    14863\n",
       "2  2023-06-13 17:00:00  123.67  124.00  123.65  123.9500   302709\n",
       "3  2023-06-13 16:00:00  123.83  123.86  122.70  123.6700   997260\n",
       "4  2023-06-13 15:00:00  123.44  123.92  123.38  123.8300  3145616\n",
       "..                 ...     ...     ...     ...       ...      ...\n",
       "95 2023-06-06 04:00:00  125.97  126.22  125.76  125.8700     6702\n",
       "96 2023-06-05 19:00:00  126.05  126.14  125.82  126.0000    17678\n",
       "97 2023-06-05 18:00:00  126.20  126.20  126.01  126.0100    20288\n",
       "98 2023-06-05 17:00:00  126.11  126.20  126.01  126.1900  1536775\n",
       "99 2023-06-05 16:00:00  126.01  126.22  125.89  126.0900  1964935\n",
       "\n",
       "[100 rows x 6 columns]"
      ]
     },
     "execution_count": 444,
     "metadata": {},
     "output_type": "execute_result"
    }
   ],
   "source": [
    "script_data['GOOGL']"
   ]
  },
  {
   "cell_type": "code",
   "execution_count": 8,
   "id": "20a94e80",
   "metadata": {},
   "outputs": [
    {
     "data": {
      "text/plain": [
       "False"
      ]
     },
     "execution_count": 8,
     "metadata": {},
     "output_type": "execute_result"
    }
   ],
   "source": [
    "'GOOGL' in script_data"
   ]
  },
  {
   "cell_type": "code",
   "execution_count": 9,
   "id": "490f5739",
   "metadata": {},
   "outputs": [
    {
     "data": {
      "text/plain": [
       "False"
      ]
     },
     "execution_count": 9,
     "metadata": {},
     "output_type": "execute_result"
    }
   ],
   "source": [
    "'NVDA' in script_data"
   ]
  },
  {
   "cell_type": "code",
   "execution_count": 35,
   "id": "3cfb86d4",
   "metadata": {},
   "outputs": [],
   "source": [
    "def indicator1(df, timeperiod):\n",
    "    df2 = df[['timestamp','open']]\n",
    "    #df2['jkh'] = 0\n",
    "    list1 = []\n",
    "    for i in range(timeperiod, len(df)):\n",
    "        sum = 0\n",
    "        for j in range(i-timeperiod, i):\n",
    "            sum += df['close'][j]\n",
    "            mean = sum/timeperiod\n",
    "            list1.append(mean)\n",
    "    #print(list1)\n",
    "    return df2"
   ]
  },
  {
   "cell_type": "code",
   "execution_count": 36,
   "id": "8a8cfbfe",
   "metadata": {},
   "outputs": [
    {
     "name": "stderr",
     "output_type": "stream",
     "text": [
      "C:\\Users\\Admin\\AppData\\Local\\Temp\\ipykernel_10932\\2179484908.py:11: SettingWithCopyWarning: \n",
      "A value is trying to be set on a copy of a slice from a DataFrame.\n",
      "Try using .loc[row_indexer,col_indexer] = value instead\n",
      "\n",
      "See the caveats in the documentation: https://pandas.pydata.org/pandas-docs/stable/user_guide/indexing.html#returning-a-view-versus-a-copy\n",
      "  df2['timeperiod'] = mean\n"
     ]
    },
    {
     "data": {
      "text/html": [
       "<div>\n",
       "<style scoped>\n",
       "    .dataframe tbody tr th:only-of-type {\n",
       "        vertical-align: middle;\n",
       "    }\n",
       "\n",
       "    .dataframe tbody tr th {\n",
       "        vertical-align: top;\n",
       "    }\n",
       "\n",
       "    .dataframe thead th {\n",
       "        text-align: right;\n",
       "    }\n",
       "</style>\n",
       "<table border=\"1\" class=\"dataframe\">\n",
       "  <thead>\n",
       "    <tr style=\"text-align: right;\">\n",
       "      <th></th>\n",
       "      <th>timestamp</th>\n",
       "      <th>open</th>\n",
       "      <th>timeperiod</th>\n",
       "    </tr>\n",
       "  </thead>\n",
       "  <tbody>\n",
       "    <tr>\n",
       "      <th>0</th>\n",
       "      <td>2023-06-13 19:00:00</td>\n",
       "      <td>183.2600</td>\n",
       "      <td>179.07</td>\n",
       "    </tr>\n",
       "    <tr>\n",
       "      <th>1</th>\n",
       "      <td>2023-06-13 18:00:00</td>\n",
       "      <td>183.2200</td>\n",
       "      <td>179.07</td>\n",
       "    </tr>\n",
       "    <tr>\n",
       "      <th>2</th>\n",
       "      <td>2023-06-13 17:00:00</td>\n",
       "      <td>183.2200</td>\n",
       "      <td>179.07</td>\n",
       "    </tr>\n",
       "    <tr>\n",
       "      <th>3</th>\n",
       "      <td>2023-06-13 16:00:00</td>\n",
       "      <td>183.3000</td>\n",
       "      <td>179.07</td>\n",
       "    </tr>\n",
       "    <tr>\n",
       "      <th>4</th>\n",
       "      <td>2023-06-13 15:00:00</td>\n",
       "      <td>182.9197</td>\n",
       "      <td>179.07</td>\n",
       "    </tr>\n",
       "    <tr>\n",
       "      <th>...</th>\n",
       "      <td>...</td>\n",
       "      <td>...</td>\n",
       "      <td>...</td>\n",
       "    </tr>\n",
       "    <tr>\n",
       "      <th>95</th>\n",
       "      <td>2023-06-06 04:00:00</td>\n",
       "      <td>179.0500</td>\n",
       "      <td>179.07</td>\n",
       "    </tr>\n",
       "    <tr>\n",
       "      <th>96</th>\n",
       "      <td>2023-06-05 19:00:00</td>\n",
       "      <td>179.0700</td>\n",
       "      <td>179.07</td>\n",
       "    </tr>\n",
       "    <tr>\n",
       "      <th>97</th>\n",
       "      <td>2023-06-05 18:00:00</td>\n",
       "      <td>180.0000</td>\n",
       "      <td>179.07</td>\n",
       "    </tr>\n",
       "    <tr>\n",
       "      <th>98</th>\n",
       "      <td>2023-06-05 17:00:00</td>\n",
       "      <td>179.5200</td>\n",
       "      <td>179.07</td>\n",
       "    </tr>\n",
       "    <tr>\n",
       "      <th>99</th>\n",
       "      <td>2023-06-05 16:00:00</td>\n",
       "      <td>179.5800</td>\n",
       "      <td>179.07</td>\n",
       "    </tr>\n",
       "  </tbody>\n",
       "</table>\n",
       "<p>100 rows × 3 columns</p>\n",
       "</div>"
      ],
      "text/plain": [
       "             timestamp      open  timeperiod\n",
       "0  2023-06-13 19:00:00  183.2600      179.07\n",
       "1  2023-06-13 18:00:00  183.2200      179.07\n",
       "2  2023-06-13 17:00:00  183.2200      179.07\n",
       "3  2023-06-13 16:00:00  183.3000      179.07\n",
       "4  2023-06-13 15:00:00  182.9197      179.07\n",
       "..                 ...       ...         ...\n",
       "95 2023-06-06 04:00:00  179.0500      179.07\n",
       "96 2023-06-05 19:00:00  179.0700      179.07\n",
       "97 2023-06-05 18:00:00  180.0000      179.07\n",
       "98 2023-06-05 17:00:00  179.5200      179.07\n",
       "99 2023-06-05 16:00:00  179.5800      179.07\n",
       "\n",
       "[100 rows x 3 columns]"
      ]
     },
     "execution_count": 36,
     "metadata": {},
     "output_type": "execute_result"
    }
   ],
   "source": [
    "indicator1(script_data['AAPL'], 5)"
   ]
  },
  {
   "cell_type": "code",
   "execution_count": 237,
   "id": "e65890b1",
   "metadata": {},
   "outputs": [],
   "source": [
    "url = 'https://www.alphavantage.co/query?function=TIME_SERIES_INTRADAY&symbol=GOOGL&interval=60min&apikey=1912UMDVJ3T55DBL'\n",
    "r = requests.get(url)\n",
    "data = r.json()\n",
    "info['GOOGL'] = data['Time Series (60min)']"
   ]
  },
  {
   "cell_type": "code",
   "execution_count": 238,
   "id": "d93d50f5",
   "metadata": {},
   "outputs": [
    {
     "data": {
      "text/plain": [
       "1"
      ]
     },
     "execution_count": 238,
     "metadata": {},
     "output_type": "execute_result"
    }
   ],
   "source": [
    "len(info)"
   ]
  },
  {
   "cell_type": "code",
   "execution_count": 420,
   "id": "731e2426",
   "metadata": {},
   "outputs": [],
   "source": [
    "#info['GOOGL'].keys()"
   ]
  },
  {
   "cell_type": "code",
   "execution_count": 222,
   "id": "a38dd19a",
   "metadata": {},
   "outputs": [],
   "source": [
    "#info = data['Time Series (60min)']\n",
    "df = pd.DataFrame(info['GOOGL'].values())\n",
    "df.columns = ['open', 'high', 'low', 'close', 'volume']"
   ]
  },
  {
   "cell_type": "code",
   "execution_count": 223,
   "id": "391dc562",
   "metadata": {},
   "outputs": [],
   "source": [
    "df['timestamp'] = info['GOOGL'].keys()"
   ]
  },
  {
   "cell_type": "code",
   "execution_count": 224,
   "id": "8ca688b8",
   "metadata": {},
   "outputs": [],
   "source": [
    "df = df[['timestamp','open','high','low','close','volume']]"
   ]
  },
  {
   "cell_type": "code",
   "execution_count": 225,
   "id": "ce5f45b9",
   "metadata": {},
   "outputs": [
    {
     "data": {
      "text/html": [
       "<div>\n",
       "<style scoped>\n",
       "    .dataframe tbody tr th:only-of-type {\n",
       "        vertical-align: middle;\n",
       "    }\n",
       "\n",
       "    .dataframe tbody tr th {\n",
       "        vertical-align: top;\n",
       "    }\n",
       "\n",
       "    .dataframe thead th {\n",
       "        text-align: right;\n",
       "    }\n",
       "</style>\n",
       "<table border=\"1\" class=\"dataframe\">\n",
       "  <thead>\n",
       "    <tr style=\"text-align: right;\">\n",
       "      <th></th>\n",
       "      <th>timestamp</th>\n",
       "      <th>open</th>\n",
       "      <th>high</th>\n",
       "      <th>low</th>\n",
       "      <th>close</th>\n",
       "      <th>volume</th>\n",
       "    </tr>\n",
       "  </thead>\n",
       "  <tbody>\n",
       "    <tr>\n",
       "      <th>0</th>\n",
       "      <td>2023-06-13 19:00:00</td>\n",
       "      <td>123.9100</td>\n",
       "      <td>123.9700</td>\n",
       "      <td>123.7900</td>\n",
       "      <td>123.8100</td>\n",
       "      <td>20048</td>\n",
       "    </tr>\n",
       "    <tr>\n",
       "      <th>1</th>\n",
       "      <td>2023-06-13 18:00:00</td>\n",
       "      <td>123.9600</td>\n",
       "      <td>124.0000</td>\n",
       "      <td>123.7600</td>\n",
       "      <td>123.9932</td>\n",
       "      <td>14863</td>\n",
       "    </tr>\n",
       "    <tr>\n",
       "      <th>2</th>\n",
       "      <td>2023-06-13 17:00:00</td>\n",
       "      <td>123.6700</td>\n",
       "      <td>124.0000</td>\n",
       "      <td>123.6500</td>\n",
       "      <td>123.9500</td>\n",
       "      <td>302709</td>\n",
       "    </tr>\n",
       "    <tr>\n",
       "      <th>3</th>\n",
       "      <td>2023-06-13 16:00:00</td>\n",
       "      <td>123.8300</td>\n",
       "      <td>123.8600</td>\n",
       "      <td>122.7000</td>\n",
       "      <td>123.6700</td>\n",
       "      <td>997260</td>\n",
       "    </tr>\n",
       "    <tr>\n",
       "      <th>4</th>\n",
       "      <td>2023-06-13 15:00:00</td>\n",
       "      <td>123.4400</td>\n",
       "      <td>123.9200</td>\n",
       "      <td>123.3800</td>\n",
       "      <td>123.8300</td>\n",
       "      <td>3145616</td>\n",
       "    </tr>\n",
       "    <tr>\n",
       "      <th>...</th>\n",
       "      <td>...</td>\n",
       "      <td>...</td>\n",
       "      <td>...</td>\n",
       "      <td>...</td>\n",
       "      <td>...</td>\n",
       "      <td>...</td>\n",
       "    </tr>\n",
       "    <tr>\n",
       "      <th>95</th>\n",
       "      <td>2023-06-06 04:00:00</td>\n",
       "      <td>125.9700</td>\n",
       "      <td>126.2200</td>\n",
       "      <td>125.7600</td>\n",
       "      <td>125.8700</td>\n",
       "      <td>6702</td>\n",
       "    </tr>\n",
       "    <tr>\n",
       "      <th>96</th>\n",
       "      <td>2023-06-05 19:00:00</td>\n",
       "      <td>126.0500</td>\n",
       "      <td>126.1400</td>\n",
       "      <td>125.8200</td>\n",
       "      <td>126.0000</td>\n",
       "      <td>17678</td>\n",
       "    </tr>\n",
       "    <tr>\n",
       "      <th>97</th>\n",
       "      <td>2023-06-05 18:00:00</td>\n",
       "      <td>126.2000</td>\n",
       "      <td>126.2000</td>\n",
       "      <td>126.0100</td>\n",
       "      <td>126.0100</td>\n",
       "      <td>20288</td>\n",
       "    </tr>\n",
       "    <tr>\n",
       "      <th>98</th>\n",
       "      <td>2023-06-05 17:00:00</td>\n",
       "      <td>126.1100</td>\n",
       "      <td>126.2000</td>\n",
       "      <td>126.0100</td>\n",
       "      <td>126.1900</td>\n",
       "      <td>1536775</td>\n",
       "    </tr>\n",
       "    <tr>\n",
       "      <th>99</th>\n",
       "      <td>2023-06-05 16:00:00</td>\n",
       "      <td>126.0100</td>\n",
       "      <td>126.2200</td>\n",
       "      <td>125.8900</td>\n",
       "      <td>126.0900</td>\n",
       "      <td>1964935</td>\n",
       "    </tr>\n",
       "  </tbody>\n",
       "</table>\n",
       "<p>100 rows × 6 columns</p>\n",
       "</div>"
      ],
      "text/plain": [
       "              timestamp      open      high       low     close   volume\n",
       "0   2023-06-13 19:00:00  123.9100  123.9700  123.7900  123.8100    20048\n",
       "1   2023-06-13 18:00:00  123.9600  124.0000  123.7600  123.9932    14863\n",
       "2   2023-06-13 17:00:00  123.6700  124.0000  123.6500  123.9500   302709\n",
       "3   2023-06-13 16:00:00  123.8300  123.8600  122.7000  123.6700   997260\n",
       "4   2023-06-13 15:00:00  123.4400  123.9200  123.3800  123.8300  3145616\n",
       "..                  ...       ...       ...       ...       ...      ...\n",
       "95  2023-06-06 04:00:00  125.9700  126.2200  125.7600  125.8700     6702\n",
       "96  2023-06-05 19:00:00  126.0500  126.1400  125.8200  126.0000    17678\n",
       "97  2023-06-05 18:00:00  126.2000  126.2000  126.0100  126.0100    20288\n",
       "98  2023-06-05 17:00:00  126.1100  126.2000  126.0100  126.1900  1536775\n",
       "99  2023-06-05 16:00:00  126.0100  126.2200  125.8900  126.0900  1964935\n",
       "\n",
       "[100 rows x 6 columns]"
      ]
     },
     "execution_count": 225,
     "metadata": {},
     "output_type": "execute_result"
    }
   ],
   "source": [
    "df"
   ]
  },
  {
   "cell_type": "code",
   "execution_count": 184,
   "id": "32dc4e67",
   "metadata": {},
   "outputs": [],
   "source": [
    "df['open'] = df['open'].astype(float)\n",
    "df['high'] = df['high'].astype(float)\n",
    "df['low'] = df['low'].astype(float)\n",
    "df['close'] = df['close'].astype(float)\n",
    "df['volume'] = df['volume'].astype(int)"
   ]
  },
  {
   "cell_type": "code",
   "execution_count": 188,
   "id": "f56681d0",
   "metadata": {},
   "outputs": [],
   "source": [
    "df['timestamp'] = pd.to_datetime(df['timestamp'])"
   ]
  },
  {
   "cell_type": "code",
   "execution_count": 189,
   "id": "abb5d2d3",
   "metadata": {},
   "outputs": [
    {
     "name": "stdout",
     "output_type": "stream",
     "text": [
      "<class 'pandas.core.frame.DataFrame'>\n",
      "RangeIndex: 100 entries, 0 to 99\n",
      "Data columns (total 6 columns):\n",
      " #   Column     Non-Null Count  Dtype         \n",
      "---  ------     --------------  -----         \n",
      " 0   timestamp  100 non-null    datetime64[ns]\n",
      " 1   open       100 non-null    float64       \n",
      " 2   high       100 non-null    float64       \n",
      " 3   low        100 non-null    float64       \n",
      " 4   close      100 non-null    float64       \n",
      " 5   volume     100 non-null    int32         \n",
      "dtypes: datetime64[ns](1), float64(4), int32(1)\n",
      "memory usage: 4.4 KB\n"
     ]
    }
   ],
   "source": [
    "df.info()"
   ]
  }
 ],
 "metadata": {
  "kernelspec": {
   "display_name": "Python 3 (ipykernel)",
   "language": "python",
   "name": "python3"
  },
  "language_info": {
   "codemirror_mode": {
    "name": "ipython",
    "version": 3
   },
   "file_extension": ".py",
   "mimetype": "text/x-python",
   "name": "python",
   "nbconvert_exporter": "python",
   "pygments_lexer": "ipython3",
   "version": "3.10.11"
  }
 },
 "nbformat": 4,
 "nbformat_minor": 5
}
